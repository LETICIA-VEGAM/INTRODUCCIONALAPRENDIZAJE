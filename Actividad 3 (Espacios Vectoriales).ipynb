{
 "cells": [
  {
   "cell_type": "markdown",
   "metadata": {},
   "source": [
    "<img style=\"float: left;;\" src='Figures/alinco.png' /></a>\n",
    "    \n",
    "# <center> <font color= #000047> Actividad 2: Espacios Vectoriales ( Ejercicios )</font>\n",
    "___\n",
    "\n"
   ]
  },
  {
   "cell_type": "markdown",
   "metadata": {},
   "source": [
    "## Espacios vectoriales\n",
    "\n",
    "Un [espacio vectorial](https://es.wikipedia.org/wiki/Espacio_vectorial), $V$, sobre un <a href=\"https://es.wikipedia.org/wiki/Cuerpo_(matem%C3%A1ticas)\">Campo</a>, $F$,  va a ser un [conjunto](http://relopezbriega.github.io/blog/2015/10/11/conjuntos-con-python/) en el que están definidas las operaciones de *<a href=\"https://es.wikipedia.org/wiki/Adici%C3%B3n_(matem%C3%A1ticas)\">adición</a>* y  *multiplicación por <a href=\"http://es.wikipedia.org/wiki/Escalar_(matem%C3%A1tica)\">escalares</a>*, tal que para cualquier par de elementos $x$ e $y$ en $V$, existe un elemento único $x + y$ en $V$, y para cada elemento $\\alpha$ en $F$ y cada elemento $x$ en $V$, exista un único elemento $\\alpha x$ en $V$, de manera que se cumplan las siguientes condiciones:\n",
    "\n",
    "1. Para todo $x, y$ en $V$, $x + y = y + x$ ([conmutatividad](https://es.wikipedia.org/wiki/Conmutatividad) de la adición).\n",
    "\n",
    "2. Para todo $x, y, z$ en $V$, $(x + y) + z = x + (y + z)$. (<a href=\"https://es.wikipedia.org/wiki/Asociatividad_(%C3%A1lgebra)\">asociatividad</a> de la adición).\n",
    "\n",
    "3. Existe un elemento en $V$ llamado $0$ tal que $x + 0 = x$ para todo $x$ en $V$.\n",
    "\n",
    "4. Para cada elemento $x$ en $V$, existe un elemento $y$ en $V$ tal que $x + y = 0$.\n",
    "\n",
    "5. Para cada elemento $x$ en $V$, $1 x = x$.\n",
    "\n",
    "6. Para cada par, $\\alpha, \\beta$ en $F$ y cada elemento $x$ en $V$, $(\\alpha \\beta) x = \\alpha (\\beta x)$.\n",
    "\n",
    "7. Para cada elemento $\\alpha$ en $F$ y cada para de elementos $x, y$ en $V$, $\\alpha(x + y) = \\alpha x + \\alpha y$.\n",
    "\n",
    "8. Para cada par de elementos $\\alpha, \\beta$ en $F$ y cada elemento $x$ en $V$, $(\\alpha +  \\beta)x = \\alpha x + \\beta x$.\n",
    "\n",
    "Los [espacios vectoriales](https://es.wikipedia.org/wiki/Espacio_vectorial) más comunes son $\\mathbb{R}^2$, el cual representa el plano de 2 dimensiones y consiste de todos los pares ordenados de los [números reales](https://es.wikipedia.org/wiki/N%C3%BAmero_real):\n",
    "\n",
    "$$\\mathbb{R}^2 = \\{(x, y): x, y \\in \\mathbb{R}\\}$$\n",
    "\n",
    "y $\\mathbb{R}^3$, que representa el espacio ordinario de 3 dimensiones y consiste en todos los tríos ordenados de los  [números reales](https://es.wikipedia.org/wiki/N%C3%BAmero_real):\n",
    "\n",
    "$$\\mathbb{R}^3 = \\{(x, y, z): x, y, z \\in \\mathbb{R}\\}$$\n",
    "\n",
    "Una de las grandes bellezas del [Álgebra lineal](http://relopezbriega.github.io/tag/algebra.html) es que podemos fácilmente pasar a trabajar sobre espacios de $n$ dimensiones, $\\mathbb{R}^n$!\n",
    "\n",
    "Tampoco tenemos porque quedarnos con solo los [números reales](https://es.wikipedia.org/wiki/N%C3%BAmero_real), ya que la definición que dimos de un [espacio vectorial](https://es.wikipedia.org/wiki/Espacio_vectorial) reside sobre un <a href=\"https://es.wikipedia.org/wiki/Cuerpo_(matem%C3%A1ticas)\">Campo</a>; y los <a href=\"https://es.wikipedia.org/wiki/Cuerpo_(matem%C3%A1ticas)\">campos</a> pueden estar representados por [números complejos](http://relopezbriega.github.io/blog/2015/10/12/numeros-complejos-con-python/). Por tanto también podemos tener [espacios vectoriales](https://es.wikipedia.org/wiki/Espacio_vectorial)  $\\mathbb{C}^2, \\mathbb{C}^3, \\dots, \\mathbb{C}^n$.\n",
    "\n",
    "### Subespacios\n",
    "\n",
    "Normalmente, en el estudio de cualquier estructura algebraica es interesante examinar subconjuntos que tengan la misma estructura que el [conjunto](http://relopezbriega.github.io/blog/2015/10/11/conjuntos-con-python/) que esta siendo considerado. Así, dentro de los [espacios vectoriales](https://es.wikipedia.org/wiki/Espacio_vectorial),  podemos tener [subespacios vectoriales](https://es.wikipedia.org/wiki/Subespacio_vectorial), los cuales son un subconjunto que cumplen con las mismas *propiedades* que el [espacio vectorial](https://es.wikipedia.org/wiki/Espacio_vectorial) que los contiene. De esta forma, $\\mathbb{R}^3$ representa un [subespacio](https://es.wikipedia.org/wiki/Subespacio_vectorial) del [espacio vectorial](https://es.wikipedia.org/wiki/Espacio_vectorial) $\\mathbb{R}^n$.\n",
    "\n"
   ]
  },
  {
   "cell_type": "markdown",
   "metadata": {},
   "source": [
    "## Ejercicios:\n",
    "\n",
    "<div class=\"alert alert-info\"><strong>NOTA:</strong> \n",
    "Pueden adjuntar archivos word, jpg, pdf, etc.., para la solución de cada uno de los ejercicios</div>\n",
    "\n",
    "\n",
    "**1.- Probar si el conjunto de matrices:**\n",
    "\n",
    "$$\\begin{Bmatrix} \\begin{pmatrix}1 & \\alpha\\\\ \\beta & 1 \\end{pmatrix} : \\alpha, \\beta \\in \\mathcal{R} \\end{Bmatrix}$$\n",
    "\n",
    "**es un espacio vectorial con su suma y producto usuales. Si no lo es, enunciar la serie de axiomas que no se satisfacen.**"
   ]
  },
  {
   "cell_type": "code",
   "execution_count": 1,
   "metadata": {},
   "outputs": [
    {
     "name": "stdout",
     "output_type": "stream",
     "text": [
      "=== Ejercicio 1: Conjunto de matrices S ===\n",
      "Matriz A:\n",
      " [[1 2]\n",
      " [3 1]]\n",
      "Matriz B:\n",
      " [[ 1 -1]\n",
      " [ 4  1]]\n",
      "\n",
      "A + B =\n",
      " [[2 1]\n",
      " [7 2]]\n",
      "¿Pertenece A+B a S? -> False\n",
      "\n",
      "3 * A =\n",
      " [[3 6]\n",
      " [9 3]]\n",
      "¿Pertenece kA a S? -> False\n",
      "\n",
      "Matriz cero:\n",
      " [[0. 0.]\n",
      " [0. 0.]]\n",
      "¿Pertenece la matriz cero a S? -> False\n",
      "\n",
      "Inverso aditivo de A:\n",
      " [[-1 -2]\n",
      " [-3 -1]]\n",
      "¿Pertenece -A a S? -> False\n"
     ]
    }
   ],
   "source": [
    "import numpy as np\n",
    "\n",
    "def pertenece_S(A):\n",
    "    \"\"\"Verifica si una matriz pertenece al conjunto S.\"\"\"\n",
    "    return (A[0,0] == 1) and (A[1,1] == 1)\n",
    "\n",
    "# Ejemplos de matrices en S (nos sirve para ilustrar con claridad qué axiomas no se cumplen)\n",
    "A = np.array([[1, 2], [3, 1]])   # α=2, β=3\n",
    "B = np.array([[1, -1], [4, 1]])  # α=-1, β=4\n",
    "\n",
    "print(\"=== Ejercicio 1: Conjunto de matrices S ===\")\n",
    "print(\"Matriz A:\\n\", A)\n",
    "print(\"Matriz B:\\n\", B)\n",
    "\n",
    "# Verificar cierre bajo suma\n",
    "C = A + B\n",
    "print(\"\\nA + B =\\n\", C)\n",
    "print(\"¿Pertenece A+B a S? ->\", pertenece_S(C))\n",
    "\n",
    "# Verificar cierre bajo multiplicación escalar\n",
    "k = 3\n",
    "kA = k * A\n",
    "print(f\"\\n{k} * A =\\n\", kA)\n",
    "print(\"¿Pertenece kA a S? ->\", pertenece_S(kA))\n",
    "\n",
    "# Verificar existencia de matriz cero\n",
    "zero = np.zeros((2,2))\n",
    "print(\"\\nMatriz cero:\\n\", zero)\n",
    "print(\"¿Pertenece la matriz cero a S? ->\", pertenece_S(zero))\n",
    "\n",
    "# Verificar inverso aditivo\n",
    "negA = -A\n",
    "print(\"\\nInverso aditivo de A:\\n\", negA)\n",
    "print(\"¿Pertenece -A a S? ->\", pertenece_S(negA))\n"
   ]
  },
  {
   "cell_type": "markdown",
   "metadata": {},
   "source": [
    "**2.- Sea $V=\\mathcal{R}^2$. Determinar si el conjunto:**\n",
    "\n",
    "$$ H=\\left\\{(x,y): x^2+y^2 \\leq 1 \\right\\}$$\n",
    "\n",
    "**es un subespacio de V.**"
   ]
  },
  {
   "cell_type": "code",
   "execution_count": 2,
   "metadata": {},
   "outputs": [
    {
     "name": "stdout",
     "output_type": "stream",
     "text": [
      "\n",
      "\n",
      "=== Ejercicio 2: Conjunto H en R^2 ===\n",
      "u = [1 0]  ¿u∈H? -> True\n",
      "v = [0 1]  ¿v∈H? -> True\n",
      "\n",
      "u+v = [1 1]  ¿u+v∈H? -> False\n",
      "\n",
      "2*u = [2 0]  ¿k*u∈H? -> False\n"
     ]
    }
   ],
   "source": [
    "def pertenece_H(v):\n",
    "    \"\"\"Verifica si un vector pertenece al conjunto H.\"\"\"\n",
    "    x, y = v\n",
    "    return x**2 + y**2 <= 1\n",
    "\n",
    "# Vectores de prueba\n",
    "u = np.array([1,0])\n",
    "v = np.array([0,1])\n",
    "\n",
    "print(\"\\n\\n=== Ejercicio 2: Conjunto H en R^2 ===\")\n",
    "print(\"u =\", u, \" ¿u∈H? ->\", pertenece_H(u))\n",
    "print(\"v =\", v, \" ¿v∈H? ->\", pertenece_H(v))\n",
    "\n",
    "# Verificar cierre bajo suma\n",
    "suma = u + v\n",
    "print(\"\\nu+v =\", suma, \" ¿u+v∈H? ->\", pertenece_H(suma))\n",
    "\n",
    "# Verificar cierre bajo multiplicación escalar\n",
    "k = 2\n",
    "ku = k*u\n",
    "print(f\"\\n{k}*u =\", ku, \" ¿k*u∈H? ->\", pertenece_H(ku))"
   ]
  },
  {
   "cell_type": "markdown",
   "metadata": {},
   "source": [
    "**3.- Sea que $P_n$ defina el conjunto de todos los polinomios de grado menor que $n$, se definen las operaciones de suma y multiplicación por un escalar como:**\n",
    "\n",
    "$$( p  + q )( x ) = p ( x ) + q ( x )$$\n",
    "$$( \\alpha p )( x ) = \\alpha p ( x )$$\n",
    "\n",
    "**para todos los números reales x . Verificar si $P_n$ es un espacio vectorial.**"
   ]
  },
  {
   "cell_type": "code",
   "execution_count": 4,
   "metadata": {},
   "outputs": [
    {
     "name": "stdout",
     "output_type": "stream",
     "text": [
      "=== Ejercicio 3: P_n (polinomios) ===\n",
      "Polinomio p(x): x**2 + 2*x + 1\n",
      "Polinomio q(x): 3*x + 4\n",
      "\n",
      "Suma p+q = x**2 + 5*x + 5  -> ¿pertenece a P_n? True\n",
      "\n",
      "5*p = 5*x**2 + 10*x + 5  -> ¿pertenece a P_n? True\n",
      "\n",
      "Polinomio cero: Poly(0, x, domain='ZZ')  -> ¿pertenece a P_n? True\n",
      "\n",
      "Inverso aditivo de p: -x**2 - 2*x - 1  -> ¿pertenece a P_n? True\n"
     ]
    }
   ],
   "source": [
    "import numpy as np\n",
    "import sympy as sp\n",
    "\n",
    "x = sp.symbols('x')\n",
    "\n",
    "# Definimos dos polinomios de grado < 3\n",
    "p = x**2 + 2*x + 1\n",
    "q = 3*x + 4\n",
    "\n",
    "def pertenece_Pn(poly, n):\n",
    "    \"\"\"Verifica si el polinomio tiene grado < n\"\"\"\n",
    "    return sp.degree(poly) < n\n",
    "\n",
    "n = 3\n",
    "print(\"=== Ejercicio 3: P_n (polinomios) ===\")\n",
    "print(\"Polinomio p(x):\", p)\n",
    "print(\"Polinomio q(x):\", q)\n",
    "\n",
    "# Cierre bajo suma\n",
    "suma = p + q\n",
    "print(\"\\nSuma p+q =\", suma, \" -> ¿pertenece a P_n?\", pertenece_Pn(suma, n))\n",
    "\n",
    "# Cierre bajo multiplicación escalar\n",
    "k = 5\n",
    "escalar = k * p\n",
    "print(f\"\\n{k}*p =\", escalar, \" -> ¿pertenece a P_n?\", pertenece_Pn(escalar, n))\n",
    "\n",
    "# Polinomio cero\n",
    "cero = sp.Poly(0, x)\n",
    "print(\"\\nPolinomio cero:\", cero, \" -> ¿pertenece a P_n?\", pertenece_Pn(cero, n))\n",
    "\n",
    "# Inverso aditivo\n",
    "inverso = -p\n",
    "print(\"\\nInverso aditivo de p:\", inverso, \" -> ¿pertenece a P_n?\", pertenece_Pn(inverso, n))"
   ]
  },
  {
   "cell_type": "markdown",
   "metadata": {},
   "source": [
    "**4.- Considere el conjunto $M_{2x2}$ de las matrices de $(2x2)$ y las operaciones convencionales de suma de matrices y producto de una matriz por un escalar. Verificar que este conjunto cumple con los 10 axiomas para ser un espacio vectorial.**"
   ]
  },
  {
   "cell_type": "code",
   "execution_count": 3,
   "metadata": {},
   "outputs": [
    {
     "name": "stdout",
     "output_type": "stream",
     "text": [
      "\n",
      "\n",
      "=== Ejercicio 4: M_2x2 (matrices) ===\n",
      "Matriz A:\n",
      " [[1 2]\n",
      " [3 4]]\n",
      "Matriz B:\n",
      " [[ 0 -1]\n",
      " [ 5  2]]\n",
      "\n",
      "A + B =\n",
      " [[1 1]\n",
      " [8 6]]\n",
      "\n",
      "-2 * A =\n",
      " [[-2 -4]\n",
      " [-6 -8]]\n",
      "\n",
      "Matriz cero:\n",
      " [[0. 0.]\n",
      " [0. 0.]]\n",
      "\n",
      "Inverso aditivo de A:\n",
      " [[-1 -2]\n",
      " [-3 -4]]\n",
      "\n",
      "Conclusión: M_2x2 con operaciones usuales SÍ es un espacio vectorial.\n"
     ]
    }
   ],
   "source": [
    "import numpy as np\n",
    "import sympy as sp\n",
    "\n",
    "A = np.array([[1, 2], [3, 4]])\n",
    "B = np.array([[0, -1], [5, 2]])\n",
    "\n",
    "print(\"\\n\\n=== Ejercicio 4: M_2x2 (matrices) ===\")\n",
    "print(\"Matriz A:\\n\", A)\n",
    "print(\"Matriz B:\\n\", B)\n",
    "\n",
    "# Cierre bajo suma\n",
    "print(\"\\nA + B =\\n\", A+B)\n",
    "\n",
    "# Cierre bajo multiplicación escalar\n",
    "k = -2\n",
    "print(f\"\\n{k} * A =\\n\", k*A)\n",
    "\n",
    "# Matriz cero\n",
    "print(\"\\nMatriz cero:\\n\", np.zeros((2,2)))\n",
    "\n",
    "# Inverso aditivo\n",
    "print(\"\\nInverso aditivo de A:\\n\", -A)\n",
    "\n",
    "print(\"\\nConclusión: M_2x2 con operaciones usuales SÍ es un espacio vectorial.\")"
   ]
  },
  {
   "cell_type": "code",
   "execution_count": null,
   "metadata": {},
   "outputs": [],
   "source": []
  }
 ],
 "metadata": {
  "kernelspec": {
   "display_name": "Python [conda env:base] *",
   "language": "python",
   "name": "conda-base-py"
  },
  "language_info": {
   "codemirror_mode": {
    "name": "ipython",
    "version": 3
   },
   "file_extension": ".py",
   "mimetype": "text/x-python",
   "name": "python",
   "nbconvert_exporter": "python",
   "pygments_lexer": "ipython3",
   "version": "3.13.5"
  }
 },
 "nbformat": 4,
 "nbformat_minor": 4
}
