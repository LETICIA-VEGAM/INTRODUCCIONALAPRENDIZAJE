{
 "cells": [
  {
   "cell_type": "markdown",
   "id": "66ace54d",
   "metadata": {},
   "source": [
    "<img style=\"float: left;;\" src='Figures/alinco.png' /></a>\n",
    "    \n",
    "# <center> <font color= #000047> Tarea 1: Eigenvectores y Eigenvalores</font>\n",
    "___\n",
    "\n",
    "Esta tarea consiste en calcular eigenvalores y eigenvectores de matrices siguiendo el calculo a mano, usando la librería numpy y sympy.\n",
    "\n",
    "Los eigenvalores y eigenvectores son conceptos fundamentales en álgebra lineal y tienen aplicaciones en machine learning, física, ingeniería y más."
   ]
  },
  {
   "cell_type": "code",
   "execution_count": null,
   "id": "c12e2314",
   "metadata": {},
   "outputs": [],
   "source": [
    "import numpy as np"
   ]
  },
  {
   "cell_type": "markdown",
   "id": "5128eaf8",
   "metadata": {},
   "source": [
    "**1. Calcula los eigenvalores y eigenvectores de la siguiente matriz:**\n",
    "\n",
    "$$A = \\begin{bmatrix} 4 & 2 \\\\ 1 & 3 \\end{bmatrix}$$"
   ]
  },
  {
   "cell_type": "code",
   "execution_count": 7,
   "id": "28f94ec6",
   "metadata": {},
   "outputs": [
    {
     "name": "stdout",
     "output_type": "stream",
     "text": [
      "Eigenvalores:\n",
      "[5. 2.]\n",
      "\n",
      "Eigenvectores (en columnas):\n",
      "[[ 0.89442719 -0.70710678]\n",
      " [ 0.4472136   0.70710678]]\n"
     ]
    }
   ],
   "source": [
    "import numpy as np\n",
    "\n",
    "A = np.array([[4, 2],\n",
    "              [1, 3]])\n",
    "\n",
    "eigenvalues, eigenvectors = np.linalg.eig(A)\n",
    "\n",
    "print(\"Eigenvalores:\")\n",
    "print(eigenvalues)\n",
    "print(\"\\nEigenvectores (en columnas):\")\n",
    "print(eigenvectors)"
   ]
  },
  {
   "cell_type": "markdown",
   "id": "50ab9c3b",
   "metadata": {},
   "source": [
    "**2. Calcula los eigenvalores y eigenvectores de la siguiente matriz:**\n",
    "\n",
    "$$B = \\begin{bmatrix} 2 & 0 \\\\ 0 & 5 \\end{bmatrix}$$"
   ]
  },
  {
   "cell_type": "code",
   "execution_count": 8,
   "id": "5703abf0",
   "metadata": {},
   "outputs": [
    {
     "name": "stdout",
     "output_type": "stream",
     "text": [
      "Eigenvalores:\n",
      "[2. 5.]\n",
      "\n",
      "Eigenvectores (en columnas):\n",
      "[[1. 0.]\n",
      " [0. 1.]]\n"
     ]
    }
   ],
   "source": [
    "import numpy as np\n",
    "\n",
    "B = np.array([[2, 0],\n",
    "              [0, 5]])\n",
    "\n",
    "eigenvalues, eigenvectors = np.linalg.eig(B)\n",
    "\n",
    "\n",
    "print(\"Eigenvalores:\")\n",
    "print(eigenvalues)\n",
    "print(\"\\nEigenvectores (en columnas):\")\n",
    "print(eigenvectors)"
   ]
  },
  {
   "cell_type": "markdown",
   "id": "a5d8abb6",
   "metadata": {},
   "source": [
    "**3. Eigenvalores y eigenvectores de una matriz 3x3**\n",
    "\n",
    "Calcula los eigenvalores y eigenvectores de la siguiente matriz:\n",
    "\n",
    "$$C = \\begin{bmatrix} 1 & 2 & 3 \\\\ 0 & 4 & 5 \\\\ 0 & 0 & 6 \\end{bmatrix}$$"
   ]
  },
  {
   "cell_type": "code",
   "execution_count": 9,
   "id": "dc150e72",
   "metadata": {},
   "outputs": [
    {
     "name": "stdout",
     "output_type": "stream",
     "text": [
      "Eigenvalores:\n",
      "[-1. -2.]\n",
      "\n",
      "Eigenvectores (en columnas):\n",
      "[[ 0.70710678 -0.4472136 ]\n",
      " [-0.70710678  0.89442719]]\n"
     ]
    }
   ],
   "source": [
    "import numpy as np\n",
    "\n",
    "D = np.array([[0, 1],\n",
    "              [-2, -3]])\n",
    "\n",
    "eigenvalues, eigenvectors = np.linalg.eig(D)\n",
    "\n",
    "print(\"Eigenvalores:\")\n",
    "print(eigenvalues)\n",
    "print(\"\\nEigenvectores (en columnas):\")\n",
    "print(eigenvectors)"
   ]
  },
  {
   "cell_type": "markdown",
   "id": "61642ded",
   "metadata": {},
   "source": [
    "**4. Calcula los eigenvalores y eigenvectores de la siguiente matriz:**\n",
    "\n",
    "$$D = \\begin{bmatrix} 0 & 1 \\\\ -2 & -3 \\end{bmatrix}$$"
   ]
  },
  {
   "cell_type": "code",
   "execution_count": 5,
   "id": "ab5dd7b2",
   "metadata": {},
   "outputs": [
    {
     "name": "stdout",
     "output_type": "stream",
     "text": [
      "D = Matrix([[0, 1], [-2, -3]])\n",
      "Eigenvaores and eigenvectores (sympy):\n",
      "[(-2, 1, [Matrix([\n",
      "[-1/2],\n",
      "[   1]])]), (-1, 1, [Matrix([\n",
      "[-1],\n",
      "[ 1]])])]\n"
     ]
    }
   ],
   "source": [
    "import sympy as sp\n",
    "D = sp.Matrix([[0,1],[-2,-3]])\n",
    "print(\"D =\", D)\n",
    "print(\"Eigenvaores and eigenvectores (sympy):\")\n",
    "print(D.eigenvects())"
   ]
  },
  {
   "cell_type": "markdown",
   "id": "3843108c",
   "metadata": {},
   "source": [
    "**5. Crea una matriz cuadrada aleatoria de tamaño 4x4 y calcula sus eigenvalores y eigenvectores.**"
   ]
  },
  {
   "cell_type": "code",
   "execution_count": 4,
   "id": "842434ad",
   "metadata": {},
   "outputs": [
    {
     "name": "stdout",
     "output_type": "stream",
     "text": [
      "Random 4x4 matrix:\n",
      " [[ 1. -2.  5.  2.]\n",
      " [-1.  1.  4. -3.]\n",
      " [ 1.  5.  5.  2.]\n",
      " [-1. -2.  2.  2.]]\n",
      "Eigenvalores (numpy):\n",
      " [-4.63082957+0.j          8.01456426+0.j          2.80813265+0.47383583j\n",
      "  2.80813265-0.47383583j]\n",
      "Eigenvectores (columns) (numpy):\n",
      " [[ 0.48730154+0.j          0.48436505+0.j         -0.92410583+0.j\n",
      "  -0.92410583-0.j        ]\n",
      " [ 0.62582145+0.j          0.35688577+0.j          0.30313999+0.03956486j\n",
      "   0.30313999-0.03956486j]\n",
      " [-0.4586953 +0.j          0.79607262+0.j         -0.1731891 -0.02808174j\n",
      "  -0.1731891 +0.02808174j]\n",
      " [ 0.40060373+0.j          0.06550909+0.j         -0.09934022-0.10916802j\n",
      "  -0.09934022+0.10916802j]]\n"
     ]
    }
   ],
   "source": [
    "import numpy as np\n",
    "np.random.seed(42)\n",
    "A_rand = np.random.randint(-5,6,size=(4,4)).astype(float)\n",
    "w, v = np.linalg.eig(A_rand)\n",
    "print(\"Random 4x4 matrix:\\n\", A_rand)\n",
    "print(\"Eigenvalores (numpy):\\n\", w)\n",
    "print(\"Eigenvectores (columns) (numpy):\\n\", v)"
   ]
  },
  {
   "cell_type": "code",
   "execution_count": null,
   "id": "73c804d5-25a4-4dd0-90e8-b1fdf949b51f",
   "metadata": {},
   "outputs": [],
   "source": []
  }
 ],
 "metadata": {
  "kernelspec": {
   "display_name": "Python [conda env:base] *",
   "language": "python",
   "name": "conda-base-py"
  },
  "language_info": {
   "codemirror_mode": {
    "name": "ipython",
    "version": 3
   },
   "file_extension": ".py",
   "mimetype": "text/x-python",
   "name": "python",
   "nbconvert_exporter": "python",
   "pygments_lexer": "ipython3",
   "version": "3.13.5"
  }
 },
 "nbformat": 4,
 "nbformat_minor": 5
}
