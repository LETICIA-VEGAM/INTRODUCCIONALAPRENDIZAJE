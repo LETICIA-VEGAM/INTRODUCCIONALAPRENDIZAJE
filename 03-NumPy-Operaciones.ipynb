{
 "cells": [
  {
   "cell_type": "markdown",
   "metadata": {},
   "source": [
    "\n",
    "<img style=\"float: left;;\" src='Figures/alinco.png' height=\"100\"/></a>\n",
    "\n",
    "# <center> <font color= #000047>  Operaciones con NumPy</font> </center>\n",
    "\n"
   ]
  },
  {
   "cell_type": "markdown",
   "metadata": {},
   "source": [
    "## Aritméticas\n",
    "\n",
    "Podemos realizar fácilmente aritmeticas como *arreglo con arreglo* , o *escalar con arreglo*. Veamos algunos ejemplos: "
   ]
  },
  {
   "cell_type": "code",
   "execution_count": 1,
   "metadata": {},
   "outputs": [],
   "source": [
    "import numpy as np"
   ]
  },
  {
   "cell_type": "code",
   "execution_count": 2,
   "metadata": {},
   "outputs": [],
   "source": [
    "l1 = [1, 1, 2, 3]\n",
    "l2 = [2, 2, 3, 4]"
   ]
  },
  {
   "cell_type": "code",
   "execution_count": 3,
   "metadata": {},
   "outputs": [
    {
     "name": "stdout",
     "output_type": "stream",
     "text": [
      "[1, 1, 2, 3, 2, 2, 3, 4]\n"
     ]
    }
   ],
   "source": [
    "print(l1 + l2)"
   ]
  },
  {
   "cell_type": "code",
   "execution_count": 4,
   "metadata": {},
   "outputs": [],
   "source": [
    "a1 = np.array(l1)\n",
    "a2 = np.array(l2)"
   ]
  },
  {
   "cell_type": "code",
   "execution_count": 5,
   "metadata": {},
   "outputs": [
    {
     "data": {
      "text/plain": [
       "array([3, 3, 5, 7])"
      ]
     },
     "execution_count": 5,
     "metadata": {},
     "output_type": "execute_result"
    }
   ],
   "source": [
    "a1 + a2"
   ]
  },
  {
   "cell_type": "code",
   "execution_count": 6,
   "metadata": {},
   "outputs": [
    {
     "data": {
      "text/plain": [
       "array([ 7,  7, 12, 17])"
      ]
     },
     "execution_count": 6,
     "metadata": {},
     "output_type": "execute_result"
    }
   ],
   "source": [
    "2*a2 + 3*a1"
   ]
  },
  {
   "cell_type": "code",
   "execution_count": 7,
   "metadata": {},
   "outputs": [
    {
     "data": {
      "text/plain": [
       "array([1, 1, 2, 3])"
      ]
     },
     "execution_count": 7,
     "metadata": {},
     "output_type": "execute_result"
    }
   ],
   "source": [
    "a1.transpose()"
   ]
  },
  {
   "cell_type": "code",
   "execution_count": 8,
   "metadata": {},
   "outputs": [
    {
     "data": {
      "text/plain": [
       "np.int64(22)"
      ]
     },
     "execution_count": 8,
     "metadata": {},
     "output_type": "execute_result"
    }
   ],
   "source": [
    "a1@a2"
   ]
  },
  {
   "cell_type": "code",
   "execution_count": null,
   "metadata": {},
   "outputs": [],
   "source": [
    "# Crear una matriz aleatoria de números enteros de dimensión 4x2 -> A\n",
    "# Crear una matriz aleatoria de números enteros de dimensión 2x6 -> B\n",
    "# Realizar la multiplicación de Matrices C = A*B\n",
    "# Realizar la multiplicación de Matrices C = B*A\n",
    "\n"
   ]
  },
  {
   "cell_type": "code",
   "execution_count": 9,
   "metadata": {},
   "outputs": [
    {
     "data": {
      "text/plain": [
       "array([[ 4, 45],\n",
       "       [91, 21],\n",
       "       [91, 61],\n",
       "       [20, 70]], dtype=int32)"
      ]
     },
     "execution_count": 9,
     "metadata": {},
     "output_type": "execute_result"
    }
   ],
   "source": [
    "A = np.random.randint(100, size=(4,2))\n",
    "A"
   ]
  },
  {
   "cell_type": "code",
   "execution_count": 10,
   "metadata": {},
   "outputs": [
    {
     "data": {
      "text/plain": [
       "array([[ 6, 93, 83, 54, 13, 99],\n",
       "       [67, 27, 71, 62, 12, 84]], dtype=int32)"
      ]
     },
     "execution_count": 10,
     "metadata": {},
     "output_type": "execute_result"
    }
   ],
   "source": [
    "B = np.random.randint(100, size=(2,6))\n",
    "B"
   ]
  },
  {
   "cell_type": "code",
   "execution_count": 11,
   "metadata": {},
   "outputs": [
    {
     "data": {
      "text/plain": [
       "(4, 2)"
      ]
     },
     "execution_count": 11,
     "metadata": {},
     "output_type": "execute_result"
    }
   ],
   "source": [
    "A.shape"
   ]
  },
  {
   "cell_type": "code",
   "execution_count": 12,
   "metadata": {},
   "outputs": [
    {
     "data": {
      "text/plain": [
       "(2, 6)"
      ]
     },
     "execution_count": 12,
     "metadata": {},
     "output_type": "execute_result"
    }
   ],
   "source": [
    "B.shape"
   ]
  },
  {
   "cell_type": "code",
   "execution_count": 13,
   "metadata": {},
   "outputs": [
    {
     "data": {
      "text/plain": [
       "array([[ 3039,  1587,  3527,  3006,   592,  4176],\n",
       "       [ 1953,  9030,  9044,  6216,  1435, 10773],\n",
       "       [ 4633, 10110, 11884,  8696,  1915, 14133],\n",
       "       [ 4810,  3750,  6630,  5420,  1100,  7860]], dtype=int32)"
      ]
     },
     "execution_count": 13,
     "metadata": {},
     "output_type": "execute_result"
    }
   ],
   "source": [
    "A@B"
   ]
  },
  {
   "cell_type": "code",
   "execution_count": 17,
   "metadata": {},
   "outputs": [
    {
     "ename": "ValueError",
     "evalue": "matmul: Input operand 1 has a mismatch in its core dimension 0, with gufunc signature (n?,k),(k,m?)->(n?,m?) (size 4 is different from 6)",
     "output_type": "error",
     "traceback": [
      "\u001b[1;31m---------------------------------------------------------------------------\u001b[0m",
      "\u001b[1;31mValueError\u001b[0m                                Traceback (most recent call last)",
      "Cell \u001b[1;32mIn[17], line 1\u001b[0m\n\u001b[1;32m----> 1\u001b[0m B\u001b[38;5;129m@A\u001b[39m\n",
      "\u001b[1;31mValueError\u001b[0m: matmul: Input operand 1 has a mismatch in its core dimension 0, with gufunc signature (n?,k),(k,m?)->(n?,m?) (size 4 is different from 6)"
     ]
    }
   ],
   "source": [
    "B@A"
   ]
  },
  {
   "cell_type": "code",
   "execution_count": 18,
   "metadata": {},
   "outputs": [
    {
     "data": {
      "text/plain": [
       "array([[ 3039,  1587,  3527,  3006,   592,  4176],\n",
       "       [ 1953,  9030,  9044,  6216,  1435, 10773],\n",
       "       [ 4633, 10110, 11884,  8696,  1915, 14133],\n",
       "       [ 4810,  3750,  6630,  5420,  1100,  7860]], dtype=int32)"
      ]
     },
     "execution_count": 18,
     "metadata": {},
     "output_type": "execute_result"
    }
   ],
   "source": [
    "np.dot(A,B)"
   ]
  },
  {
   "cell_type": "code",
   "execution_count": 19,
   "metadata": {},
   "outputs": [
    {
     "ename": "ValueError",
     "evalue": "shapes (2,6) and (4,2) not aligned: 6 (dim 1) != 4 (dim 0)",
     "output_type": "error",
     "traceback": [
      "\u001b[1;31m---------------------------------------------------------------------------\u001b[0m",
      "\u001b[1;31mValueError\u001b[0m                                Traceback (most recent call last)",
      "Cell \u001b[1;32mIn[19], line 1\u001b[0m\n\u001b[1;32m----> 1\u001b[0m np\u001b[38;5;241m.\u001b[39mdot(B,A)\n",
      "\u001b[1;31mValueError\u001b[0m: shapes (2,6) and (4,2) not aligned: 6 (dim 1) != 4 (dim 0)"
     ]
    }
   ],
   "source": [
    "np.dot(B,A)"
   ]
  },
  {
   "cell_type": "markdown",
   "metadata": {},
   "source": [
    "## Funciones universales en los Arreglos\n",
    "\n",
    "NumPy viene con muchass [funciones universales en los arreglos](http://docs.scipy.org/doc/numpy/reference/ufuncs.html), or <em>ufuncs</em>, que son esencialmente operaciones matemáticas que se pueden aplicar al arreglo.<br>Veamos algunas funciones más comunes:"
   ]
  },
  {
   "cell_type": "code",
   "execution_count": 20,
   "metadata": {},
   "outputs": [
    {
     "data": {
      "text/plain": [
       "array([1.        , 1.        , 1.41421356, 1.73205081])"
      ]
     },
     "execution_count": 20,
     "metadata": {},
     "output_type": "execute_result"
    }
   ],
   "source": [
    "np.sqrt(a1)"
   ]
  },
  {
   "cell_type": "code",
   "execution_count": 21,
   "metadata": {},
   "outputs": [
    {
     "data": {
      "text/plain": [
       "array([ 2.71828183,  2.71828183,  7.3890561 , 20.08553692])"
      ]
     },
     "execution_count": 21,
     "metadata": {},
     "output_type": "execute_result"
    }
   ],
   "source": [
    "np.exp(a1)"
   ]
  },
  {
   "cell_type": "code",
   "execution_count": 22,
   "metadata": {},
   "outputs": [
    {
     "data": {
      "text/plain": [
       "array([0.84147098, 0.84147098, 0.90929743, 0.14112001])"
      ]
     },
     "execution_count": 22,
     "metadata": {},
     "output_type": "execute_result"
    }
   ],
   "source": [
    "np.sin(a1)"
   ]
  },
  {
   "cell_type": "code",
   "execution_count": 23,
   "metadata": {
    "scrolled": true
   },
   "outputs": [
    {
     "data": {
      "text/plain": [
       "array([ 0.54030231,  0.54030231, -0.41614684, -0.9899925 ])"
      ]
     },
     "execution_count": 23,
     "metadata": {},
     "output_type": "execute_result"
    }
   ],
   "source": [
    "np.cos(a1)"
   ]
  },
  {
   "cell_type": "code",
   "execution_count": 24,
   "metadata": {},
   "outputs": [
    {
     "data": {
      "text/plain": [
       "array([0.        , 0.        , 0.69314718, 1.09861229])"
      ]
     },
     "execution_count": 24,
     "metadata": {},
     "output_type": "execute_result"
    }
   ],
   "source": [
    "np.log(a1)"
   ]
  },
  {
   "cell_type": "code",
   "execution_count": 25,
   "metadata": {},
   "outputs": [
    {
     "data": {
      "text/plain": [
       "np.int64(1)"
      ]
     },
     "execution_count": 25,
     "metadata": {},
     "output_type": "execute_result"
    }
   ],
   "source": [
    "np.min(a1)"
   ]
  },
  {
   "cell_type": "code",
   "execution_count": 26,
   "metadata": {},
   "outputs": [
    {
     "data": {
      "text/plain": [
       "np.int64(3)"
      ]
     },
     "execution_count": 26,
     "metadata": {},
     "output_type": "execute_result"
    }
   ],
   "source": [
    "np.max(a1)"
   ]
  },
  {
   "cell_type": "markdown",
   "metadata": {},
   "source": [
    "## Resumen de Estadística sobre Arreglos\n",
    "\n",
    "NumPy también ofrece métodos estadísticos como <em> sum </em>, <em> mean </em> y <em> max </em>. "
   ]
  },
  {
   "cell_type": "code",
   "execution_count": 27,
   "metadata": {},
   "outputs": [
    {
     "data": {
      "text/plain": [
       "np.int64(7)"
      ]
     },
     "execution_count": 27,
     "metadata": {},
     "output_type": "execute_result"
    }
   ],
   "source": [
    "a1.sum()"
   ]
  },
  {
   "cell_type": "code",
   "execution_count": 28,
   "metadata": {},
   "outputs": [
    {
     "data": {
      "text/plain": [
       "np.float64(0.82915619758885)"
      ]
     },
     "execution_count": 28,
     "metadata": {},
     "output_type": "execute_result"
    }
   ],
   "source": [
    "a1.std()"
   ]
  },
  {
   "cell_type": "code",
   "execution_count": 29,
   "metadata": {},
   "outputs": [
    {
     "data": {
      "text/plain": [
       "np.float64(0.6875)"
      ]
     },
     "execution_count": 29,
     "metadata": {},
     "output_type": "execute_result"
    }
   ],
   "source": [
    "a1.var()"
   ]
  },
  {
   "cell_type": "code",
   "execution_count": 30,
   "metadata": {},
   "outputs": [
    {
     "data": {
      "text/plain": [
       "np.float64(1.75)"
      ]
     },
     "execution_count": 30,
     "metadata": {},
     "output_type": "execute_result"
    }
   ],
   "source": [
    "a1.mean()"
   ]
  },
  {
   "cell_type": "code",
   "execution_count": 31,
   "metadata": {},
   "outputs": [
    {
     "data": {
      "text/plain": [
       "np.int64(403)"
      ]
     },
     "execution_count": 31,
     "metadata": {},
     "output_type": "execute_result"
    }
   ],
   "source": [
    "A.sum()"
   ]
  },
  {
   "cell_type": "markdown",
   "metadata": {},
   "source": [
    "## Lógica para el eje (axis)\n",
    "\n",
    "Cuando trabajamos con arreglos bidimensionales, debemos considerar filas y columnas. En términos de un arreglo, el eje 0 (cero) es el eje horizontal (filas) y el eje 1 es el eje vertical (columnas). Los valores (0,1) corresponden al orden en el que método <tt> arr.shape </tt> da como salida.\n",
    "\n",
    "Veamos cómo afecta esto a nuestros cálculos estadísticos resumidos de arriba.\n"
   ]
  },
  {
   "cell_type": "code",
   "execution_count": 32,
   "metadata": {},
   "outputs": [
    {
     "data": {
      "text/plain": [
       "(4, 2)"
      ]
     },
     "execution_count": 32,
     "metadata": {},
     "output_type": "execute_result"
    }
   ],
   "source": [
    "A.shape"
   ]
  },
  {
   "cell_type": "markdown",
   "metadata": {},
   "source": [
    "Dando como entrada <tt>axis=0</tt>, estamos devolviendo la suma del arreglo a lo largo del eje vertical, esencialmente <tt>[(1+5+9), (2+6+10), (3+7+11), (4+8+12)]</tt>\n",
    "\n",
    "<img src='Figures/axis_logic.png' width=400/>"
   ]
  },
  {
   "cell_type": "code",
   "execution_count": 33,
   "metadata": {},
   "outputs": [
    {
     "data": {
      "text/plain": [
       "array([206, 197])"
      ]
     },
     "execution_count": 33,
     "metadata": {},
     "output_type": "execute_result"
    }
   ],
   "source": [
    "A.sum(axis=0)"
   ]
  },
  {
   "cell_type": "code",
   "execution_count": 34,
   "metadata": {},
   "outputs": [
    {
     "data": {
      "text/plain": [
       "array([ 49, 112, 152,  90])"
      ]
     },
     "execution_count": 34,
     "metadata": {},
     "output_type": "execute_result"
    }
   ],
   "source": [
    "A.sum(axis=1)"
   ]
  },
  {
   "cell_type": "markdown",
   "metadata": {},
   "source": [
    "Esto nos dice que <tt>arr_2d</tt> tiene 3 filas y 4 columnas.\n",
    "\n",
    "En <tt>arr_2d.sum(axis=0)</tt>, se sumó el primer elemento de cada fila, luego el segundo elemento y así sucesivamente.\n",
    "\n",
    "Entonces, ¿qué debería <tt>arr_2d.sum(axis=1)</tt> regresar?"
   ]
  },
  {
   "cell_type": "markdown",
   "metadata": {},
   "source": [
    "## Ejercicio 1"
   ]
  },
  {
   "cell_type": "markdown",
   "metadata": {},
   "source": [
    "\n",
    "### Numpy\n",
    "\n",
    "1. Crear un vector con valores de 10 a 49.\n",
    "2. Elevar al cuadrado a aquellos números divisibles por 3.\n",
    "3. Redimensionar ese vector en una matriz de 20x2.\n",
    "4. Crear una nueva matriz de 2x10 y multiplicarla a la matriz anterior.\n",
    "5. Obtener la transpuesta de la matriz resultante."
   ]
  },
  {
   "cell_type": "code",
   "execution_count": 35,
   "metadata": {},
   "outputs": [
    {
     "data": {
      "text/plain": [
       "array([10, 11, 12, 13, 14, 15, 16, 17, 18, 19, 20, 21, 22, 23, 24, 25, 26,\n",
       "       27, 28, 29, 30, 31, 32, 33, 34, 35, 36, 37, 38, 39, 40, 41, 42, 43,\n",
       "       44, 45, 46, 47, 48, 49])"
      ]
     },
     "execution_count": 35,
     "metadata": {},
     "output_type": "execute_result"
    }
   ],
   "source": [
    "#1.- Crear un vector con valores de 10 a 49\n",
    "a = np.arange(10,50)\n",
    "a"
   ]
  },
  {
   "cell_type": "code",
   "execution_count": 36,
   "metadata": {},
   "outputs": [
    {
     "name": "stdout",
     "output_type": "stream",
     "text": [
      "144\n",
      "225\n",
      "324\n",
      "441\n",
      "576\n",
      "729\n",
      "900\n",
      "1089\n",
      "1296\n",
      "1521\n",
      "1764\n",
      "2025\n",
      "2304\n"
     ]
    }
   ],
   "source": [
    "#2.- Elevar al cuadrado a aquellos números divisibles por 3.\n",
    "\n",
    "for i in range(len(a)):\n",
    "    if a[i]%3==0:\n",
    "        print(a[i]**2)"
   ]
  },
  {
   "cell_type": "code",
   "execution_count": 37,
   "metadata": {},
   "outputs": [
    {
     "data": {
      "text/plain": [
       "array([ 144,  225,  324,  441,  576,  729,  900, 1089, 1296, 1521, 1764,\n",
       "       2025, 2304])"
      ]
     },
     "execution_count": 37,
     "metadata": {},
     "output_type": "execute_result"
    }
   ],
   "source": [
    "a[a%3==0]**2"
   ]
  },
  {
   "cell_type": "code",
   "execution_count": 38,
   "metadata": {},
   "outputs": [
    {
     "data": {
      "text/plain": [
       "(40,)"
      ]
     },
     "execution_count": 38,
     "metadata": {},
     "output_type": "execute_result"
    }
   ],
   "source": [
    "#3.- Redimensionar ese vector en una matriz de 20x2.\n",
    "a2 = np.arange(40)\n",
    "a2.shape"
   ]
  },
  {
   "cell_type": "code",
   "execution_count": 39,
   "metadata": {},
   "outputs": [
    {
     "data": {
      "text/plain": [
       "array([ 0,  1,  2,  3,  4,  5,  6,  7,  8,  9, 10, 11, 12, 13, 14, 15, 16,\n",
       "       17, 18, 19, 20, 21, 22, 23, 24, 25, 26, 27, 28, 29, 30, 31, 32, 33,\n",
       "       34, 35, 36, 37, 38, 39])"
      ]
     },
     "execution_count": 39,
     "metadata": {},
     "output_type": "execute_result"
    }
   ],
   "source": [
    "a2"
   ]
  },
  {
   "cell_type": "code",
   "execution_count": 40,
   "metadata": {},
   "outputs": [],
   "source": [
    "mat1 = a2.reshape(20,2)"
   ]
  },
  {
   "cell_type": "code",
   "execution_count": 41,
   "metadata": {},
   "outputs": [
    {
     "data": {
      "text/plain": [
       "array([[32, 88, 87, 84, 83, 34, 62, 86, 80, 68],\n",
       "       [54, 91, 65, 42, 91, 39, 91, 74,  7, 65]], dtype=int32)"
      ]
     },
     "execution_count": 41,
     "metadata": {},
     "output_type": "execute_result"
    }
   ],
   "source": [
    "#Crear una nueva matriz de 2x10 y multiplicarla a la matriz anterior.\n",
    "mat2 = np.random.randint(100, size=(2,10))\n",
    "mat2"
   ]
  },
  {
   "cell_type": "code",
   "execution_count": 42,
   "metadata": {},
   "outputs": [
    {
     "data": {
      "text/plain": [
       "array([[  54,   91,   65,   42,   91,   39,   91,   74,    7,   65],\n",
       "       [ 226,  449,  369,  294,  439,  185,  397,  394,  181,  331],\n",
       "       [ 398,  807,  673,  546,  787,  331,  703,  714,  355,  597],\n",
       "       [ 570, 1165,  977,  798, 1135,  477, 1009, 1034,  529,  863],\n",
       "       [ 742, 1523, 1281, 1050, 1483,  623, 1315, 1354,  703, 1129],\n",
       "       [ 914, 1881, 1585, 1302, 1831,  769, 1621, 1674,  877, 1395],\n",
       "       [1086, 2239, 1889, 1554, 2179,  915, 1927, 1994, 1051, 1661],\n",
       "       [1258, 2597, 2193, 1806, 2527, 1061, 2233, 2314, 1225, 1927],\n",
       "       [1430, 2955, 2497, 2058, 2875, 1207, 2539, 2634, 1399, 2193],\n",
       "       [1602, 3313, 2801, 2310, 3223, 1353, 2845, 2954, 1573, 2459],\n",
       "       [1774, 3671, 3105, 2562, 3571, 1499, 3151, 3274, 1747, 2725],\n",
       "       [1946, 4029, 3409, 2814, 3919, 1645, 3457, 3594, 1921, 2991],\n",
       "       [2118, 4387, 3713, 3066, 4267, 1791, 3763, 3914, 2095, 3257],\n",
       "       [2290, 4745, 4017, 3318, 4615, 1937, 4069, 4234, 2269, 3523],\n",
       "       [2462, 5103, 4321, 3570, 4963, 2083, 4375, 4554, 2443, 3789],\n",
       "       [2634, 5461, 4625, 3822, 5311, 2229, 4681, 4874, 2617, 4055],\n",
       "       [2806, 5819, 4929, 4074, 5659, 2375, 4987, 5194, 2791, 4321],\n",
       "       [2978, 6177, 5233, 4326, 6007, 2521, 5293, 5514, 2965, 4587],\n",
       "       [3150, 6535, 5537, 4578, 6355, 2667, 5599, 5834, 3139, 4853],\n",
       "       [3322, 6893, 5841, 4830, 6703, 2813, 5905, 6154, 3313, 5119]])"
      ]
     },
     "execution_count": 42,
     "metadata": {},
     "output_type": "execute_result"
    }
   ],
   "source": [
    "mat1@mat2"
   ]
  },
  {
   "cell_type": "code",
   "execution_count": 43,
   "metadata": {},
   "outputs": [
    {
     "data": {
      "text/plain": [
       "array([[ 0,  1],\n",
       "       [ 2,  3],\n",
       "       [ 4,  5],\n",
       "       [ 6,  7],\n",
       "       [ 8,  9],\n",
       "       [10, 11],\n",
       "       [12, 13],\n",
       "       [14, 15],\n",
       "       [16, 17],\n",
       "       [18, 19],\n",
       "       [20, 21],\n",
       "       [22, 23],\n",
       "       [24, 25],\n",
       "       [26, 27],\n",
       "       [28, 29],\n",
       "       [30, 31],\n",
       "       [32, 33],\n",
       "       [34, 35],\n",
       "       [36, 37],\n",
       "       [38, 39]])"
      ]
     },
     "execution_count": 43,
     "metadata": {},
     "output_type": "execute_result"
    }
   ],
   "source": [
    "mat1"
   ]
  },
  {
   "cell_type": "code",
   "execution_count": 44,
   "metadata": {},
   "outputs": [
    {
     "data": {
      "text/plain": [
       "array([[ 0,  2,  4,  6,  8, 10, 12, 14, 16, 18, 20, 22, 24, 26, 28, 30,\n",
       "        32, 34, 36, 38],\n",
       "       [ 1,  3,  5,  7,  9, 11, 13, 15, 17, 19, 21, 23, 25, 27, 29, 31,\n",
       "        33, 35, 37, 39]])"
      ]
     },
     "execution_count": 44,
     "metadata": {},
     "output_type": "execute_result"
    }
   ],
   "source": [
    "#Obtener la transpuesta de la matriz resultante.\n",
    "mat1.transpose()"
   ]
  },
  {
   "cell_type": "code",
   "execution_count": 45,
   "metadata": {},
   "outputs": [
    {
     "data": {
      "text/plain": [
       "array([[ 0,  2,  4,  6,  8, 10, 12, 14, 16, 18, 20, 22, 24, 26, 28, 30,\n",
       "        32, 34, 36, 38],\n",
       "       [ 1,  3,  5,  7,  9, 11, 13, 15, 17, 19, 21, 23, 25, 27, 29, 31,\n",
       "        33, 35, 37, 39]])"
      ]
     },
     "execution_count": 45,
     "metadata": {},
     "output_type": "execute_result"
    }
   ],
   "source": [
    "mat1.T"
   ]
  },
  {
   "cell_type": "markdown",
   "metadata": {},
   "source": [
    "## Ejercicio 2"
   ]
  },
  {
   "cell_type": "markdown",
   "metadata": {},
   "source": [
    "Se desea calcular el índice de masa corporal (IMC) de jugadores de un equipo de futbol. Los datos proporcionados corresponden a las listas de los nombres, altura y peso, tal como se muestra a continuación"
   ]
  },
  {
   "cell_type": "code",
   "execution_count": null,
   "metadata": {},
   "outputs": [],
   "source": [
    "nombre= ['Bonifacio de Cifuentes',\n",
    "'Ángel Machado Lara',\n",
    "'Geraldo de Atienza',\n",
    "'Onofre Posada Grande',\n",
    "'Samu Cantón-Figuerola',\n",
    "'Camilo Pol',\n",
    "'Toni Galvez Lara',\n",
    "'Lucho Manzano Rivas',\n",
    "'Abraham Aroca',\n",
    "'Anselmo Bartolomé Folch',\n",
    "'Toni Inocencio Rozas Porras',\n",
    "'Fausto Cortés-Arco',\n",
    "'Baltasar Carreño Isern']\n",
    "\n",
    "altura = [180, 215, 210, 210, 188, 176, 209, 200, 210, 188, 176, 209, 200]\n",
    "peso = [69, 74, 72, 75, 68, 70, 71, 73, 69, 74, 72, 75, 68, 70, 71, 73]"
   ]
  },
  {
   "cell_type": "markdown",
   "metadata": {},
   "source": [
    "El valor de IMC por cada jugador resulta de aplicar la fórmula:\n",
    "\n",
    "$$IMC = \\frac{peso(kg)}{altura(m)^2}$$\n",
    "\n",
    "**Nota:** Los valores de altura están dados en centímetros por lo que deberá hacer laconversión a metros previo a la aplicación de la fórmula. Adicionalmente, una vez obtenido el IMC se solicita:\n",
    "\n",
    "> a) Presentar el icm para cada jugador.\n",
    "\n",
    "> b) Indicar en qué índice se encuentra el icm más alto y a qué jugador le pertenece.\n",
    "\n",
    "> c) Calcular el promedio de los icm resultantes.\n",
    "\n",
    "> d) Muestre los nombres de los jugadores en orden de su imc, desde el que tiene menorimc al que tiene mayor imc."
   ]
  },
  {
   "cell_type": "code",
   "execution_count": null,
   "metadata": {},
   "outputs": [],
   "source": []
  },
  {
   "cell_type": "code",
   "execution_count": null,
   "metadata": {},
   "outputs": [],
   "source": []
  },
  {
   "cell_type": "code",
   "execution_count": null,
   "metadata": {},
   "outputs": [],
   "source": []
  }
 ],
 "metadata": {
  "kernelspec": {
   "display_name": "Python [conda env:base] *",
   "language": "python",
   "name": "conda-base-py"
  },
  "language_info": {
   "codemirror_mode": {
    "name": "ipython",
    "version": 3
   },
   "file_extension": ".py",
   "mimetype": "text/x-python",
   "name": "python",
   "nbconvert_exporter": "python",
   "pygments_lexer": "ipython3",
   "version": "3.13.5"
  }
 },
 "nbformat": 4,
 "nbformat_minor": 4
}
