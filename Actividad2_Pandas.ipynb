{
 "cells": [
  {
   "cell_type": "markdown",
   "metadata": {},
   "source": [
    "<img style=\"float: left;;\" src='Figures/alinco.png' /></a>\n",
    "    \n",
    "# <center> <font color= #000047> Actividad 2: librería Pandas.</font>\n",
    "___\n",
    "\n"
   ]
  },
  {
   "cell_type": "markdown",
   "metadata": {},
   "source": [
    "### Utilizando el archivo [titanic.csv], realice lo que se le pide:\n"
   ]
  },
  {
   "cell_type": "markdown",
   "metadata": {},
   "source": [
    "\n",
    "**1. Generar un DataFrame con los datos del fichero.**\n"
   ]
  },
  {
   "cell_type": "markdown",
   "metadata": {},
   "source": [
    "**2. Mostrar por pantalla las dimensiones del DataFrame, el número de datos que contiene, los nombres de sus columnas y filas, los tipos de datos de las columnas, las 10 primeras filas y las 10 últimas filas.**\n"
   ]
  },
  {
   "cell_type": "code",
   "execution_count": 1,
   "metadata": {},
   "outputs": [
    {
     "name": "stdout",
     "output_type": "stream",
     "text": [
      "Dimensiones del DataFrame: (891, 12)\n",
      "Número total de datos: 10692\n",
      "Nombres de columnas: ['PassengerId', 'Survived', 'Pclass', 'Name', 'Sex', 'Age', 'SibSp', 'Parch', 'Ticket', 'Fare', 'Cabin', 'Embarked']\n",
      "Cantidad de filas (índices): 891\n",
      "\n",
      "Tipos de datos de las columnas:\n",
      "PassengerId      int64\n",
      "Survived         int64\n",
      "Pclass           int64\n",
      "Name            object\n",
      "Sex             object\n",
      "Age            float64\n",
      "SibSp            int64\n",
      "Parch            int64\n",
      "Ticket          object\n",
      "Fare           float64\n",
      "Cabin           object\n",
      "Embarked        object\n",
      "dtype: object\n",
      "\n",
      "Primeras 10 filas del DataFrame:\n",
      "   PassengerId  Survived  Pclass  \\\n",
      "0            1         0       3   \n",
      "1            2         1       1   \n",
      "2            3         1       3   \n",
      "3            4         1       1   \n",
      "4            5         0       3   \n",
      "5            6         0       3   \n",
      "6            7         0       1   \n",
      "7            8         0       3   \n",
      "8            9         1       3   \n",
      "9           10         1       2   \n",
      "\n",
      "                                                Name     Sex   Age  SibSp  \\\n",
      "0                            Braund, Mr. Owen Harris    male  22.0      1   \n",
      "1  Cumings, Mrs. John Bradley (Florence Briggs Th...  female  38.0      1   \n",
      "2                             Heikkinen, Miss. Laina  female  26.0      0   \n",
      "3       Futrelle, Mrs. Jacques Heath (Lily May Peel)  female  35.0      1   \n",
      "4                           Allen, Mr. William Henry    male  35.0      0   \n",
      "5                                   Moran, Mr. James    male   NaN      0   \n",
      "6                            McCarthy, Mr. Timothy J    male  54.0      0   \n",
      "7                     Palsson, Master. Gosta Leonard    male   2.0      3   \n",
      "8  Johnson, Mrs. Oscar W (Elisabeth Vilhelmina Berg)  female  27.0      0   \n",
      "9                Nasser, Mrs. Nicholas (Adele Achem)  female  14.0      1   \n",
      "\n",
      "   Parch            Ticket     Fare Cabin Embarked  \n",
      "0      0         A/5 21171   7.2500   NaN        S  \n",
      "1      0          PC 17599  71.2833   C85        C  \n",
      "2      0  STON/O2. 3101282   7.9250   NaN        S  \n",
      "3      0            113803  53.1000  C123        S  \n",
      "4      0            373450   8.0500   NaN        S  \n",
      "5      0            330877   8.4583   NaN        Q  \n",
      "6      0             17463  51.8625   E46        S  \n",
      "7      1            349909  21.0750   NaN        S  \n",
      "8      2            347742  11.1333   NaN        S  \n",
      "9      0            237736  30.0708   NaN        C  \n",
      "\n",
      "Últimas 10 filas del DataFrame:\n",
      "     PassengerId  Survived  Pclass                                      Name  \\\n",
      "881          882         0       3                        Markun, Mr. Johann   \n",
      "882          883         0       3              Dahlberg, Miss. Gerda Ulrika   \n",
      "883          884         0       2             Banfield, Mr. Frederick James   \n",
      "884          885         0       3                    Sutehall, Mr. Henry Jr   \n",
      "885          886         0       3      Rice, Mrs. William (Margaret Norton)   \n",
      "886          887         0       2                     Montvila, Rev. Juozas   \n",
      "887          888         1       1              Graham, Miss. Margaret Edith   \n",
      "888          889         0       3  Johnston, Miss. Catherine Helen \"Carrie\"   \n",
      "889          890         1       1                     Behr, Mr. Karl Howell   \n",
      "890          891         0       3                       Dooley, Mr. Patrick   \n",
      "\n",
      "        Sex   Age  SibSp  Parch            Ticket     Fare Cabin Embarked  \n",
      "881    male  33.0      0      0            349257   7.8958   NaN        S  \n",
      "882  female  22.0      0      0              7552  10.5167   NaN        S  \n",
      "883    male  28.0      0      0  C.A./SOTON 34068  10.5000   NaN        S  \n",
      "884    male  25.0      0      0   SOTON/OQ 392076   7.0500   NaN        S  \n",
      "885  female  39.0      0      5            382652  29.1250   NaN        Q  \n",
      "886    male  27.0      0      0            211536  13.0000   NaN        S  \n",
      "887  female  19.0      0      0            112053  30.0000   B42        S  \n",
      "888  female   NaN      1      2        W./C. 6607  23.4500   NaN        S  \n",
      "889    male  26.0      0      0            111369  30.0000  C148        C  \n",
      "890    male  32.0      0      0            370376   7.7500   NaN        Q  \n"
     ]
    }
   ],
   "source": [
    "# código aquí\n",
    "import pandas as pd\n",
    "\n",
    "df = pd.read_csv(\"titanic.csv\") \n",
    "print(\"Dimensiones del DataFrame:\", df.shape)\n",
    "print(\"Número total de datos:\", df.size)\n",
    "print(\"Nombres de columnas:\", df.columns.tolist())\n",
    "print(\"Cantidad de filas (índices):\", len(df.index))\n",
    "print(\"\\nTipos de datos de las columnas:\")\n",
    "print(df.dtypes)\n",
    "print(\"\\nPrimeras 10 filas del DataFrame:\")\n",
    "print(df.head(10))\n",
    "print(\"\\nÚltimas 10 filas del DataFrame:\")\n",
    "print(df.tail(10))"
   ]
  },
  {
   "cell_type": "markdown",
   "metadata": {},
   "source": [
    "**3. Mostrar por pantalla los datos del pasajero con identificador 148.**\n"
   ]
  },
  {
   "cell_type": "code",
   "execution_count": 2,
   "metadata": {},
   "outputs": [
    {
     "name": "stdout",
     "output_type": "stream",
     "text": [
      "Datos del pasajero con PassengerId = 148:\n",
      "     PassengerId  Survived  Pclass                              Name     Sex  \\\n",
      "147          148         0       3  Ford, Miss. Robina Maggie \"Ruby\"  female   \n",
      "\n",
      "     Age  SibSp  Parch      Ticket    Fare Cabin Embarked  \n",
      "147  9.0      2      2  W./C. 6608  34.375   NaN        S  \n"
     ]
    }
   ],
   "source": [
    "import pandas as pd\n",
    "\n",
    "df = pd.read_csv(\"titanic.csv\")\n",
    "pasajero_148 = df[df[\"PassengerId\"] == 148]\n",
    "print(\"Datos del pasajero con PassengerId = 148:\")\n",
    "print(pasajero_148)"
   ]
  },
  {
   "cell_type": "markdown",
   "metadata": {},
   "source": [
    "**4. Mostrar por pantalla las filas pares del DataFrame.**\n"
   ]
  },
  {
   "cell_type": "code",
   "execution_count": 3,
   "metadata": {},
   "outputs": [
    {
     "name": "stdout",
     "output_type": "stream",
     "text": [
      "Filas pares del DataFrame:\n",
      "     PassengerId  Survived  Pclass  \\\n",
      "0              1         0       3   \n",
      "2              3         1       3   \n",
      "4              5         0       3   \n",
      "6              7         0       1   \n",
      "8              9         1       3   \n",
      "..           ...       ...     ...   \n",
      "882          883         0       3   \n",
      "884          885         0       3   \n",
      "886          887         0       2   \n",
      "888          889         0       3   \n",
      "890          891         0       3   \n",
      "\n",
      "                                                  Name     Sex   Age  SibSp  \\\n",
      "0                              Braund, Mr. Owen Harris    male  22.0      1   \n",
      "2                               Heikkinen, Miss. Laina  female  26.0      0   \n",
      "4                             Allen, Mr. William Henry    male  35.0      0   \n",
      "6                              McCarthy, Mr. Timothy J    male  54.0      0   \n",
      "8    Johnson, Mrs. Oscar W (Elisabeth Vilhelmina Berg)  female  27.0      0   \n",
      "..                                                 ...     ...   ...    ...   \n",
      "882                       Dahlberg, Miss. Gerda Ulrika  female  22.0      0   \n",
      "884                             Sutehall, Mr. Henry Jr    male  25.0      0   \n",
      "886                              Montvila, Rev. Juozas    male  27.0      0   \n",
      "888           Johnston, Miss. Catherine Helen \"Carrie\"  female   NaN      1   \n",
      "890                                Dooley, Mr. Patrick    male  32.0      0   \n",
      "\n",
      "     Parch            Ticket     Fare Cabin Embarked  \n",
      "0        0         A/5 21171   7.2500   NaN        S  \n",
      "2        0  STON/O2. 3101282   7.9250   NaN        S  \n",
      "4        0            373450   8.0500   NaN        S  \n",
      "6        0             17463  51.8625   E46        S  \n",
      "8        2            347742  11.1333   NaN        S  \n",
      "..     ...               ...      ...   ...      ...  \n",
      "882      0              7552  10.5167   NaN        S  \n",
      "884      0   SOTON/OQ 392076   7.0500   NaN        S  \n",
      "886      0            211536  13.0000   NaN        S  \n",
      "888      2        W./C. 6607  23.4500   NaN        S  \n",
      "890      0            370376   7.7500   NaN        Q  \n",
      "\n",
      "[446 rows x 12 columns]\n"
     ]
    }
   ],
   "source": [
    "import pandas as pd\n",
    "\n",
    "df = pd.read_csv(\"titanic.csv\")  # Asegúrate de que el archivo esté en la misma carpeta\n",
    "filas_pares = df.iloc[::2]  # Selecciona cada 2 filas comenzando en 0 (índices pares)\n",
    "print(\"Filas pares del DataFrame:\")\n",
    "print(filas_pares)"
   ]
  },
  {
   "cell_type": "markdown",
   "metadata": {},
   "source": [
    "**5. Mostrar por pantalla los nombres de las personas que iban en primera clase ordenadas alfabéticamente.**\n"
   ]
  },
  {
   "cell_type": "code",
   "execution_count": 4,
   "metadata": {},
   "outputs": [
    {
     "name": "stdout",
     "output_type": "stream",
     "text": [
      "Nombres de las personas en primera clase ordenados alfabéticamente:\n",
      "                     Allen, Miss. Elisabeth Walton\n",
      "                    Allison, Master. Hudson Trevor\n",
      "                      Allison, Miss. Helen Loraine\n",
      "   Allison, Mrs. Hudson J C (Bessie Waldo Daniels)\n",
      "                               Anderson, Mr. Harry\n",
      "                 Andrews, Miss. Kornelia Theodosia\n",
      "                            Andrews, Mr. Thomas Jr\n",
      "     Appleton, Mrs. Edward Dale (Charlotte Lamson)\n",
      "                           Artagaveytia, Mr. Ramon\n",
      " Astor, Mrs. John Jacob (Madeleine Talmadge Force)\n",
      "                     Aubart, Mme. Leontine Pauline\n",
      "                      Barber, Miss. Ellen \"Nellie\"\n",
      "              Barkworth, Mr. Algernon Henry Wilson\n",
      "                               Baumann, Mr. John D\n",
      "                          Baxter, Mr. Quigg Edmond\n",
      "   Baxter, Mrs. James (Helene DeLaudeniere Chaput)\n",
      "                             Bazzani, Miss. Albina\n",
      "                     Beckwith, Mr. Richard Leonard\n",
      "  Beckwith, Mrs. Richard Leonard (Sallie Monypeny)\n",
      "                             Behr, Mr. Karl Howell\n",
      "                             Bidois, Miss. Rosalie\n",
      "                           Bishop, Mr. Dickinson H\n",
      "           Bishop, Mrs. Dickinson H (Helen Walton)\n",
      "                            Bissette, Miss. Amelia\n",
      "         Bjornstrom-Steffansson, Mr. Mauritz Hakan\n",
      "                      Blackwell, Mr. Stephen Weart\n",
      "                                  Blank, Mr. Henry\n",
      "                          Bonnell, Miss. Elizabeth\n",
      "                       Bowerman, Miss. Elsie Edith\n",
      "     Bradley, Mr. George (\"George Arthur Brayton\")\n",
      "                         Brewe, Dr. Arthur Jackson\n",
      "         Brown, Mrs. James Joseph (Margaret Tobin)\n",
      "                   Burns, Miss. Elizabeth Margaret\n",
      "                 Butt, Major. Archibald Willingham\n",
      "                             Cairns, Mr. Alexander\n",
      "                 Calderhead, Mr. Edward Pennington\n",
      "                Cardeza, Mr. Thomas Drake Martinez\n",
      "                          Carlsson, Mr. Frans Olof\n",
      "                           Carrau, Mr. Francisco M\n",
      "               Carter, Master. William Thornton II\n",
      "                         Carter, Miss. Lucile Polk\n",
      "                        Carter, Mr. William Ernest\n",
      "         Carter, Mrs. William Ernest (Lucile Polk)\n",
      "                     Cavendish, Mr. Tyrell William\n",
      "                       Chaffee, Mr. Herbert Fuller\n",
      "                     Chambers, Mr. Norman Campbell\n",
      "    Chambers, Mrs. Norman Campbell (Bertha Griggs)\n",
      "                              Cherry, Miss. Gladys\n",
      "            Chibnall, Mrs. (Edith Martha Bowerman)\n",
      "                              Cleaver, Miss. Alice\n",
      "                       Clifford, Mr. George Quincy\n",
      "                        Colley, Mr. Edward Pomeroy\n",
      "                       Compton, Miss. Sara Rebecca\n",
      "                      Crosby, Capt. Edward Gifford\n",
      "                           Crosby, Miss. Harriet R\n",
      "Cumings, Mrs. John Bradley (Florence Briggs Tha...\n",
      "                            Daly, Mr. Peter Denis \n",
      "                       Daniel, Mr. Robert Williams\n",
      "                            Davidson, Mr. Thornton\n",
      "                           Dick, Mr. Albert Adrian\n",
      "         Dick, Mrs. Albert Adrian (Vera Gillespie)\n",
      "                         Dodge, Master. Washington\n",
      "                        Douglas, Mr. Walter Donald\n",
      "Duff Gordon, Lady. (Lucille Christiana Sutherla...\n",
      "      Duff Gordon, Sir. Cosmo Edmund (\"Mr Morgan\")\n",
      "                     Endres, Miss. Caroline Louise\n",
      "                    Eustis, Miss. Elizabeth Mussey\n",
      "                                Farthing, Mr. John\n",
      "                           Fleming, Miss. Margaret\n",
      "                  Flynn, Mr. John Irwin (\"Irving\")\n",
      "                   Foreman, Mr. Benjamin Laventall\n",
      "                    Fortune, Miss. Alice Elizabeth\n",
      "                        Fortune, Miss. Mabel Helen\n",
      "                    Fortune, Mr. Charles Alexander\n",
      "                                 Fortune, Mr. Mark\n",
      "                    Francatelli, Miss. Laura Mabel\n",
      "                     Frauenthal, Dr. Henry William\n",
      "Frauenthal, Mrs. Henry William (Clara Heinsheimer)\n",
      "                Frolicher, Miss. Hedwig Margaritha\n",
      "                  Frolicher-Stehli, Mr. Maxmillian\n",
      "                                  Fry, Mr. Richard\n",
      "                       Futrelle, Mr. Jacques Heath\n",
      "      Futrelle, Mrs. Jacques Heath (Lily May Peel)\n",
      "                                 Gee, Mr. Arthur H\n",
      "                                Giglio, Mr. Victor\n",
      "                          Goldenberg, Mr. Samuel L\n",
      "      Goldenberg, Mrs. Samuel L (Edwiga Grabowska)\n",
      "                         Goldschmidt, Mr. George B\n",
      "                      Graham, Miss. Margaret Edith\n",
      "                         Graham, Mr. George Edward\n",
      "     Graham, Mrs. William Thompson (Edith Junkins)\n",
      "                   Greenfield, Mr. William Bertram\n",
      "                          Guggenheim, Mr. Benjamin\n",
      "                       Harder, Mr. George Achilles\n",
      "                         Harper, Mr. Henry Sleeper\n",
      "          Harper, Mrs. Henry Sleeper (Myna Haxtun)\n",
      "                         Harrington, Mr. Charles H\n",
      "                       Harris, Mr. Henry Birkhardt\n",
      "      Harris, Mrs. Henry Birkhardt (Irene Wallach)\n",
      "                             Harrison, Mr. William\n",
      "                                Hassab, Mr. Hammad\n",
      "                       Hawksford, Mr. Walter James\n",
      "                    Hays, Miss. Margaret Bechstein\n",
      "Hays, Mrs. Charles Melville (Clara Jennings Gregg)\n",
      "                      Hippach, Miss. Jean Gertrude\n",
      "   Hippach, Mrs. Louis Albert (Ida Sophia Fischer)\n",
      "              Hogeboom, Mrs. John C (Anna Andrews)\n",
      "                    Holverson, Mr. Alexander Oskar\n",
      "Holverson, Mrs. Alexander Oskar (Mary Aline Tow...\n",
      "                   Homer, Mr. Harry (\"Mr E Haven\")\n",
      "                      Hoyt, Mr. Frederick Maxfield\n",
      "                          Hoyt, Mr. William Fisher\n",
      "   Hoyt, Mrs. Frederick Maxfield (Jane Anne Forby)\n",
      "                               Icard, Miss. Amelie\n",
      "                        Isham, Miss. Ann Elizabeth\n",
      "                           Kent, Mr. Edward Austin\n",
      "                 Kenyon, Mrs. Frederick R (Marion)\n",
      "                      Kimball, Mr. Edwin Nelson Jr\n",
      "                                Klaber, Mr. Herman\n",
      "                               LeRoy, Miss. Bertha\n",
      "                       Leader, Dr. Alice (Farnham)\n",
      "                            Lesurer, Mr. Gustave J\n",
      "                                 Lewy, Mr. Ervin G\n",
      "                         Lines, Miss. Mary Conover\n",
      "                            Long, Mr. Milton Clyde\n",
      "                     Longley, Miss. Gretchen Fiske\n",
      "                              Lurette, Miss. Elise\n",
      "                 Madill, Miss. Georgette Alexandra\n",
      "                             Maioni, Miss. Roberta\n",
      "                              Marechal, Mr. Pierre\n",
      "                         Marvin, Mr. Daniel Warner\n",
      "  Mayne, Mlle. Berthe Antonine (\"Mrs de Villiers\")\n",
      "                           McCarthy, Mr. Timothy J\n",
      "                         McGough, Mr. James Robert\n",
      "                           Meyer, Mr. Edgar Joseph\n",
      "             Meyer, Mrs. Edgar Joseph (Leila Saks)\n",
      "                         Millet, Mr. Francis Davis\n",
      "                       Minahan, Dr. William Edward\n",
      "                            Minahan, Miss. Daisy E\n",
      "                        Molson, Mr. Harry Markland\n",
      "                             Natsch, Mr. Charles H\n",
      "                           Newell, Miss. Madeleine\n",
      "                            Newell, Miss. Marjorie\n",
      "                        Newell, Mr. Arthur Webster\n",
      "                      Newsom, Miss. Helen Monypeny\n",
      "                      Nicholson, Mr. Arthur Ernest\n",
      "                    Ostby, Mr. Engelhart Cornelius\n",
      "                     Parr, Mr. William Henry Marsh\n",
      "                               Partner, Mr. Austen\n",
      "                         Pears, Mr. Thomas Clinton\n",
      "                 Pears, Mrs. Thomas (Edith Wearne)\n",
      "        Penasco y Castellana, Mr. Victor de Satode\n",
      "Penasco y Castellana, Mrs. Victor de Satode (Ma...\n",
      "                             Perreault, Miss. Anne\n",
      "                    Peuchen, Major. Arthur Godfrey\n",
      "                    Porter, Mr. Walter Chamberlain\n",
      "     Potter, Mrs. Thomas Jr (Lily Alexenia Wilson)\n",
      "                   Reuchlin, Jonkheer. John George\n",
      "                               Ringhini, Mr. Sante\n",
      "                               Robbins, Mr. Victor\n",
      "Robert, Mrs. Edward Scott (Elisabeth Walton McM...\n",
      "              Roebling, Mr. Washington Augustus II\n",
      "     Romaine, Mr. Charles Hallace (\"Mr C Rolmane\")\n",
      "                             Rood, Mr. Hugh Roscoe\n",
      "                               Ross, Mr. John Hugo\n",
      "Rothes, the Countess. of (Lucy Noel Martha Dyer...\n",
      "    Rothschild, Mrs. Martin (Elizabeth L. Barrett)\n",
      "                        Ryerson, Miss. Emily Borie\n",
      "             Ryerson, Miss. Susan Parker \"Suzette\"\n",
      "                             Saalfeld, Mr. Adolphe\n",
      "                              Sagesser, Mlle. Emma\n",
      "                           Serepeca, Miss. Augusta\n",
      "                       Seward, Mr. Frederic Kimber\n",
      "                         Shutes, Miss. Elizabeth W\n",
      "                  Silverthorne, Mr. Spencer Victor\n",
      "                         Silvey, Mr. William Baird\n",
      "         Silvey, Mrs. William Baird (Alice Munger)\n",
      "               Simonius-Blumer, Col. Oberst Alfons\n",
      "                      Sloper, Mr. William Thompson\n",
      "                        Smart, Mr. John Montgomery\n",
      "                           Smith, Mr. James Clinch\n",
      "                        Smith, Mr. Richard William\n",
      "Spedden, Mrs. Frederic Oakley (Margaretta Corni...\n",
      "    Spencer, Mrs. William Augustus (Marie Eugenie)\n",
      "                         Stahelin-Maeglin, Dr. Max\n",
      "                         Stead, Mr. William Thomas\n",
      "   Stephenson, Mrs. Walter Bertram (Martha Eustis)\n",
      "                             Stewart, Mr. Albert A\n",
      "         Stone, Mrs. George Nelson (Martha Evelyn)\n",
      "                             Sutton, Mr. Frederick\n",
      "Swift, Mrs. Frederick Joel (Margaret Welles Bar...\n",
      "                               Taussig, Miss. Ruth\n",
      "                                 Taussig, Mr. Emil\n",
      "            Taussig, Mrs. Emil (Tillie Mandelbaum)\n",
      "                          Taylor, Mr. Elmer Zebley\n",
      " Taylor, Mrs. Elmer Zebley (Juliet Cummins Wright)\n",
      "                          Thayer, Mr. John Borland\n",
      "                       Thayer, Mr. John Borland Jr\n",
      "Thayer, Mrs. John Borland (Marian Longstreth Mo...\n",
      "                    Thorne, Mrs. Gertrude Maybelle\n",
      "                          Uruchurtu, Don. Manuel E\n",
      "                         Van der hoef, Mr. Wyckoff\n",
      "                      Walker, Mr. William Anderson\n",
      "                                  Ward, Miss. Anna\n",
      "  Warren, Mrs. Frank Manley (Anna Sophia Atkinson)\n",
      "                                   Weir, Col. John\n",
      "                       White, Mr. Percival Wayland\n",
      "                         White, Mr. Richard Frasar\n",
      "                          Wick, Miss. Mary Natalie\n",
      "        Wick, Mrs. George Dennick (Mary Hitchcock)\n",
      "                         Widener, Mr. Harry Elkins\n",
      "                       Williams, Mr. Charles Duane\n",
      "            Williams-Lambert, Mr. Fletcher Fellows\n",
      "                                 Woolner, Mr. Hugh\n",
      "                                Wright, Mr. George\n",
      "                          Young, Miss. Marie Grice\n"
     ]
    }
   ],
   "source": [
    "# código aquí\n",
    "import pandas as pd\n",
    "\n",
    "df = pd.read_csv(\"titanic.csv\")\n",
    "primera_clase = df[df[\"Pclass\"] == 1]\n",
    "nombres_ordenados = primera_clase[\"Name\"].sort_values()\n",
    "print(\"Nombres de las personas en primera clase ordenados alfabéticamente:\")\n",
    "print(nombres_ordenados.to_string(index=False))"
   ]
  },
  {
   "cell_type": "markdown",
   "metadata": {},
   "source": [
    "**6. Mostrar por pantalla el porcentaje de personas que sobrevivieron y murieron.**\n"
   ]
  },
  {
   "cell_type": "code",
   "execution_count": 5,
   "metadata": {},
   "outputs": [
    {
     "name": "stdout",
     "output_type": "stream",
     "text": [
      "Porcentaje de personas que sobrevivieron: 38.38%\n",
      "Porcentaje de personas que murieron: 61.62%\n"
     ]
    }
   ],
   "source": [
    "import pandas as pd\n",
    "\n",
    "df = pd.read_csv(\"titanic.csv\")\n",
    "total_pasajeros = len(df)\n",
    "sobrevivientes = df[\"Survived\"].sum()\n",
    "muertos = total_pasajeros - sobrevivientes\n",
    "\n",
    "porcentaje_sobrevivieron = (sobrevivientes / total_pasajeros) * 100\n",
    "porcentaje_murieron = (muertos / total_pasajeros) * 100\n",
    "\n",
    "print(f\"Porcentaje de personas que sobrevivieron: {porcentaje_sobrevivieron:.2f}%\")\n",
    "print(f\"Porcentaje de personas que murieron: {porcentaje_murieron:.2f}%\")"
   ]
  },
  {
   "cell_type": "markdown",
   "metadata": {},
   "source": [
    "**7. Mostrar por pantalla el porcentaje de personas que sobrevivieron en cada clase.**\n"
   ]
  },
  {
   "cell_type": "code",
   "execution_count": 6,
   "metadata": {},
   "outputs": [
    {
     "name": "stdout",
     "output_type": "stream",
     "text": [
      "Porcentaje de personas que sobrevivieron en cada clase:\n",
      "Clase 1: 62.96%\n",
      "Clase 2: 47.28%\n",
      "Clase 3: 24.24%\n"
     ]
    }
   ],
   "source": [
    "import pandas as pd\n",
    "\n",
    "df = pd.read_csv(\"titanic.csv\")\n",
    "porcentaje_por_clase = df.groupby(\"Pclass\")[\"Survived\"].mean() * 100\n",
    "\n",
    "print(\"Porcentaje de personas que sobrevivieron en cada clase:\")\n",
    "for clase, porcentaje in porcentaje_por_clase.items():\n",
    "    print(f\"Clase {clase}: {porcentaje:.2f}%\")"
   ]
  },
  {
   "cell_type": "markdown",
   "metadata": {},
   "source": [
    "**8. Eliminar del DataFrame los pasajeros con edad desconocida.**\n"
   ]
  },
  {
   "cell_type": "code",
   "execution_count": 7,
   "metadata": {},
   "outputs": [
    {
     "name": "stdout",
     "output_type": "stream",
     "text": [
      "Filas originales: 891\n",
      "Filas después de eliminar edades desconocidas: 714\n",
      "\n",
      "Primeras filas después de la limpieza:\n",
      "   PassengerId  Survived  Pclass  \\\n",
      "0            1         0       3   \n",
      "1            2         1       1   \n",
      "2            3         1       3   \n",
      "3            4         1       1   \n",
      "4            5         0       3   \n",
      "\n",
      "                                                Name     Sex   Age  SibSp  \\\n",
      "0                            Braund, Mr. Owen Harris    male  22.0      1   \n",
      "1  Cumings, Mrs. John Bradley (Florence Briggs Th...  female  38.0      1   \n",
      "2                             Heikkinen, Miss. Laina  female  26.0      0   \n",
      "3       Futrelle, Mrs. Jacques Heath (Lily May Peel)  female  35.0      1   \n",
      "4                           Allen, Mr. William Henry    male  35.0      0   \n",
      "\n",
      "   Parch            Ticket     Fare Cabin Embarked  \n",
      "0      0         A/5 21171   7.2500   NaN        S  \n",
      "1      0          PC 17599  71.2833   C85        C  \n",
      "2      0  STON/O2. 3101282   7.9250   NaN        S  \n",
      "3      0            113803  53.1000  C123        S  \n",
      "4      0            373450   8.0500   NaN        S  \n"
     ]
    }
   ],
   "source": [
    "import pandas as pd\n",
    "\n",
    "df = pd.read_csv(\"titanic.csv\") \n",
    "df_sin_edad_desconocida = df.dropna(subset=[\"Age\"])\n",
    "\n",
    "print(f\"Filas originales: {len(df)}\")\n",
    "print(f\"Filas después de eliminar edades desconocidas: {len(df_sin_edad_desconocida)}\")\n",
    "print(\"\\nPrimeras filas después de la limpieza:\")\n",
    "print(df_sin_edad_desconocida.head())"
   ]
  },
  {
   "cell_type": "markdown",
   "metadata": {},
   "source": [
    "**9. Mostrar por pantalla la edad media de las mujeres que viajaban en cada clase.**\n"
   ]
  },
  {
   "cell_type": "code",
   "execution_count": 8,
   "metadata": {},
   "outputs": [
    {
     "name": "stdout",
     "output_type": "stream",
     "text": [
      "Edad media de las mujeres en cada clase:\n",
      "Clase 1: 34.61 años\n",
      "Clase 2: 28.72 años\n",
      "Clase 3: 21.75 años\n"
     ]
    }
   ],
   "source": [
    "import pandas as pd\n",
    "\n",
    "\n",
    "df = pd.read_csv(\"titanic.csv\") \n",
    "\n",
    "mujeres = df[df[\"Sex\"] == \"female\"]\n",
    "edad_media_por_clase = mujeres.groupby(\"Pclass\")[\"Age\"].mean()\n",
    "\n",
    "print(\"Edad media de las mujeres en cada clase:\")\n",
    "for clase, edad_media in edad_media_por_clase.items():\n",
    "    print(f\"Clase {clase}: {edad_media:.2f} años\")\n"
   ]
  },
  {
   "cell_type": "markdown",
   "metadata": {},
   "source": [
    "**10.  Añadir una nueva columna booleana para ver si el pasajero era menor de edad o no.**\n"
   ]
  },
  {
   "cell_type": "code",
   "execution_count": 9,
   "metadata": {},
   "outputs": [
    {
     "name": "stdout",
     "output_type": "stream",
     "text": [
      "    PassengerId  Survived  Pclass  \\\n",
      "0             1         0       3   \n",
      "1             2         1       1   \n",
      "2             3         1       3   \n",
      "3             4         1       1   \n",
      "4             5         0       3   \n",
      "5             6         0       3   \n",
      "6             7         0       1   \n",
      "7             8         0       3   \n",
      "8             9         1       3   \n",
      "9            10         1       2   \n",
      "10           11         1       3   \n",
      "11           12         1       1   \n",
      "12           13         0       3   \n",
      "13           14         0       3   \n",
      "14           15         0       3   \n",
      "\n",
      "                                                 Name     Sex   Age  SibSp  \\\n",
      "0                             Braund, Mr. Owen Harris    male  22.0      1   \n",
      "1   Cumings, Mrs. John Bradley (Florence Briggs Th...  female  38.0      1   \n",
      "2                              Heikkinen, Miss. Laina  female  26.0      0   \n",
      "3        Futrelle, Mrs. Jacques Heath (Lily May Peel)  female  35.0      1   \n",
      "4                            Allen, Mr. William Henry    male  35.0      0   \n",
      "5                                    Moran, Mr. James    male   NaN      0   \n",
      "6                             McCarthy, Mr. Timothy J    male  54.0      0   \n",
      "7                      Palsson, Master. Gosta Leonard    male   2.0      3   \n",
      "8   Johnson, Mrs. Oscar W (Elisabeth Vilhelmina Berg)  female  27.0      0   \n",
      "9                 Nasser, Mrs. Nicholas (Adele Achem)  female  14.0      1   \n",
      "10                    Sandstrom, Miss. Marguerite Rut  female   4.0      1   \n",
      "11                           Bonnell, Miss. Elizabeth  female  58.0      0   \n",
      "12                     Saundercock, Mr. William Henry    male  20.0      0   \n",
      "13                        Andersson, Mr. Anders Johan    male  39.0      1   \n",
      "14               Vestrom, Miss. Hulda Amanda Adolfina  female  14.0      0   \n",
      "\n",
      "    Parch            Ticket     Fare Cabin Embarked  MenorDeEdad  \n",
      "0       0         A/5 21171   7.2500   NaN        S        False  \n",
      "1       0          PC 17599  71.2833   C85        C        False  \n",
      "2       0  STON/O2. 3101282   7.9250   NaN        S        False  \n",
      "3       0            113803  53.1000  C123        S        False  \n",
      "4       0            373450   8.0500   NaN        S        False  \n",
      "5       0            330877   8.4583   NaN        Q        False  \n",
      "6       0             17463  51.8625   E46        S        False  \n",
      "7       1            349909  21.0750   NaN        S         True  \n",
      "8       2            347742  11.1333   NaN        S        False  \n",
      "9       0            237736  30.0708   NaN        C         True  \n",
      "10      1           PP 9549  16.7000    G6        S         True  \n",
      "11      0            113783  26.5500  C103        S        False  \n",
      "12      0         A/5. 2151   8.0500   NaN        S        False  \n",
      "13      5            347082  31.2750   NaN        S        False  \n",
      "14      0            350406   7.8542   NaN        S         True  \n"
     ]
    }
   ],
   "source": [
    "import pandas as pd\n",
    "\n",
    "df = pd.read_csv(\"titanic.csv\") \n",
    "df[\"MenorDeEdad\"] = df[\"Age\"] < 18\n",
    "\n",
    "print(df.head(15))\n"
   ]
  },
  {
   "cell_type": "markdown",
   "metadata": {},
   "source": [
    "**11.  Mostrar por pantalla el porcentaje de menores y mayores de edad que sobrevivieron en cada clase.**"
   ]
  },
  {
   "cell_type": "code",
   "execution_count": 10,
   "metadata": {},
   "outputs": [
    {
     "name": "stdout",
     "output_type": "stream",
     "text": [
      "Clase 1 - Mayor de edad: 61.27% sobrevivieron\n",
      "Clase 1 - Menor de edad: 91.67% sobrevivieron\n",
      "Clase 2 - Mayor de edad: 40.99% sobrevivieron\n",
      "Clase 2 - Menor de edad: 91.30% sobrevivieron\n",
      "Clase 3 - Mayor de edad: 21.79% sobrevivieron\n",
      "Clase 3 - Menor de edad: 37.18% sobrevivieron\n"
     ]
    }
   ],
   "source": [
    "import pandas as pd\n",
    "\n",
    "df = pd.read_csv(\"titanic.csv\") \n",
    "df['IsMinor'] = df['Age'] < 18\n",
    "grouped = df.groupby(['Pclass', 'IsMinor'])\n",
    "\n",
    "percentage_survived = grouped['Survived'].mean() * 100\n",
    "\n",
    "\n",
    "for (pclass, is_minor), pct in percentage_survived.items():\n",
    "    age_group = \"Menor de edad\" if is_minor else \"Mayor de edad\"\n",
    "    print(f\"Clase {pclass} - {age_group}: {pct:.2f}% sobrevivieron\")"
   ]
  },
  {
   "cell_type": "code",
   "execution_count": null,
   "metadata": {},
   "outputs": [],
   "source": []
  },
  {
   "cell_type": "code",
   "execution_count": null,
   "metadata": {},
   "outputs": [],
   "source": []
  },
  {
   "cell_type": "markdown",
   "metadata": {},
   "source": [
    "**11.  Mostrar por pantalla el porcentaje de menores y mayores de edad que sobrevivieron en cada clase.**"
   ]
  },
  {
   "cell_type": "code",
   "execution_count": 12,
   "metadata": {},
   "outputs": [
    {
     "name": "stdout",
     "output_type": "stream",
     "text": [
      "Clase 1 - Mayor de edad: 63.79% sobrevivieron\n",
      "Clase 1 - Menor de edad: 91.67% sobrevivieron\n",
      "Clase 2 - Mayor de edad: 41.33% sobrevivieron\n",
      "Clase 2 - Menor de edad: 91.30% sobrevivieron\n",
      "Clase 3 - Mayor de edad: 20.22% sobrevivieron\n",
      "Clase 3 - Menor de edad: 37.18% sobrevivieron\n"
     ]
    }
   ],
   "source": [
    "import pandas as pd\n",
    "\n",
    "df = pd.read_csv(\"titanic.csv\")\n",
    "df_clean = df.dropna(subset=['Age']).copy()\n",
    "df_clean['IsMinor'] = df_clean['Age'] < 18\n",
    "\n",
    "grouped = df_clean.groupby(['Pclass', 'IsMinor'])\n",
    "percentage_survived = grouped['Survived'].mean() * 100\n",
    "\n",
    "for (pclass, is_minor), pct in percentage_survived.items():\n",
    "    age_group = \"Menor de edad\" if is_minor else \"Mayor de edad\"\n",
    "    print(f\"Clase {pclass} - {age_group}: {pct:.2f}% sobrevivieron\")"
   ]
  },
  {
   "cell_type": "code",
   "execution_count": null,
   "metadata": {},
   "outputs": [],
   "source": []
  }
 ],
 "metadata": {
  "kernelspec": {
   "display_name": "Python [conda env:base] *",
   "language": "python",
   "name": "conda-base-py"
  },
  "language_info": {
   "codemirror_mode": {
    "name": "ipython",
    "version": 3
   },
   "file_extension": ".py",
   "mimetype": "text/x-python",
   "name": "python",
   "nbconvert_exporter": "python",
   "pygments_lexer": "ipython3",
   "version": "3.13.5"
  }
 },
 "nbformat": 4,
 "nbformat_minor": 4
}
